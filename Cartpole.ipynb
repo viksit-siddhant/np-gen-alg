{
 "cells": [
  {
   "cell_type": "code",
   "execution_count": 1,
   "metadata": {},
   "outputs": [],
   "source": [
    "import gym\n",
    "import numpy as np\n",
    "import random\n",
    "env = gym.make(\"CartPole-v1\")\n",
    "shape_of_net = (4,\n",
    "                30,\n",
    "                20,\n",
    "                2)\n",
    "num_layers = len(shape_of_net) - 1"
   ]
  },
  {
   "cell_type": "code",
   "execution_count": 2,
   "metadata": {},
   "outputs": [],
   "source": [
    "def softmax(x):\n",
    "\n",
    "    e_x = np.exp(x - np.max(x))\n",
    "    return e_x / e_x.sum()\n",
    "\n",
    "\n",
    "class Agent:\n",
    "    def __init__(self):\n",
    "        self.weights = []\n",
    "        self.biases = []\n",
    "        self.cum_reward = 0\n",
    "        for i in range(num_layers):\n",
    "            self.weights.append(np.random.uniform(-3,3,size=(shape_of_net[i],shape_of_net[i+1])))\n",
    "            self.biases.append(np.random.uniform(-3,3,size=(shape_of_net[i+1])))\n",
    "    \n",
    "    def act(self,state):\n",
    "        l = state\n",
    "        for i in range(num_layers):\n",
    "            l = np.matmul(l,self.weights[i]) + self.biases[i]\n",
    "            if i != num_layers-1:\n",
    "                #ReLU\n",
    "                np.maximum(l,0,l)\n",
    "        \n",
    "        l = softmax(l)\n",
    "        \n",
    "        return np.argmax(l[0])\n"
   ]
  },
  {
   "cell_type": "code",
   "execution_count": 3,
   "metadata": {},
   "outputs": [],
   "source": [
    "def mating(parents,offsprings):\n",
    "    for offspring in offsprings:\n",
    "        parent1,parent2 = random.sample(parents,2)\n",
    "        #Crossover the weights and biases of the parents in the offspring\n",
    "        for i in range(num_layers):\n",
    "            offspring.weights[i] = np.concatenate([parent1.weights[i][:,:int(shape_of_net[i+1]/2)],\n",
    "                                                       parent2.weights[i][:,int(shape_of_net[i+1]/2):]],axis=1)\n",
    "            offspring.biases[i] = np.concatenate([parent1.biases[i][:int(shape_of_net[i+1]/2)],parent2.biases[i][int(shape_of_net[i+1]/2):]])\n",
    "                \n",
    "def mutation(agents):\n",
    "    for agent in agents:\n",
    "        for i in range(num_layers):\n",
    "            #Mutate \n",
    "            mutation = np.random.normal(scale=3,size=2)\n",
    "            agent.weights[i][np.random.randint(0,shape_of_net[i]),np.random.randint(0,shape_of_net[i+1])] += mutation[0]\n",
    "            agent.biases[i][np.random.randint(0,shape_of_net[i+1])] += mutation[1]\n"
   ]
  },
  {
   "cell_type": "code",
   "execution_count": 4,
   "metadata": {},
   "outputs": [],
   "source": [
    "num_agents = 200\n",
    "top_perc = 0.1\n",
    "agents = []\n",
    "\n",
    "for i in range(num_agents):\n",
    "    agents.append(Agent())\n",
    "\n",
    "cutoff = int(top_perc*num_agents)"
   ]
  },
  {
   "cell_type": "code",
   "execution_count": 5,
   "metadata": {},
   "outputs": [
    {
     "name": "stdout",
     "output_type": "stream",
     "text": [
      "Episode 0 best:325.0 av:18.625\n",
      "Episode 1 best:500.0 av:24.46\n",
      "Episode 2 best:500.0 av:46.62\n",
      "Episode 3 best:500.0 av:56.77\n",
      "Episode 4 best:500.0 av:90.825\n",
      "Episode 5 best:500.0 av:116.75\n",
      "Episode 6 best:500.0 av:156.575\n",
      "Episode 7 best:500.0 av:184.265\n",
      "Episode 8 best:500.0 av:202.965\n",
      "Episode 9 best:500.0 av:196.38\n",
      "Episode 10 best:500.0 av:220.71\n",
      "Episode 11 best:500.0 av:318.595\n",
      "Episode 12 best:500.0 av:336.525\n",
      "Episode 13 best:500.0 av:322.87\n",
      "Episode 14 best:500.0 av:322.95\n",
      "Episode 15 best:500.0 av:334.26\n",
      "Episode 16 best:500.0 av:357.78\n",
      "Episode 17 best:500.0 av:336.63\n",
      "Episode 18 best:500.0 av:357.95\n",
      "Episode 19 best:500.0 av:388.505\n",
      "Episode 20 best:500.0 av:370.76\n",
      "Episode 21 best:500.0 av:384.41\n",
      "Episode 22 best:500.0 av:358.775\n",
      "Episode 23 best:500.0 av:347.655\n",
      "Episode 24 best:500.0 av:377.665\n",
      "Episode 25 best:500.0 av:364.255\n",
      "Episode 26 best:500.0 av:401.71\n",
      "Episode 27 best:500.0 av:368.885\n",
      "Episode 28 best:500.0 av:332.635\n",
      "Episode 29 best:500.0 av:368.34\n"
     ]
    }
   ],
   "source": [
    "#Score won't go above 500 since environment ends after that\n",
    "num_episodes = 30\n",
    "for i in range(num_episodes):\n",
    "    for agent in agents:\n",
    "        state = env.reset()\n",
    "        done = False\n",
    "        while not done:\n",
    "            action = agent.act(state.reshape((1,-1)))\n",
    "            state,r,done,_ = env.step(action)\n",
    "            agent.cum_reward += r\n",
    "    \n",
    "    #Choose the fittest agents in each generation\n",
    "    agent_reward_list = sorted(agents,key= lambda a:a.cum_reward,reverse=True)\n",
    "    #Populate the rest of the population with the offspring of the fittest agents \n",
    "    mating(agent_reward_list[:cutoff],agent_reward_list[cutoff:])\n",
    "    mutation(agents)\n",
    "    print(f\"Episode {i} best:{agent_reward_list[0].cum_reward} av:{sum([a.cum_reward for a in agents])/num_agents}\")\n",
    "    for agent in agents:\n",
    "        agent.cum_reward = 0\n",
    "    "
   ]
  },
  {
   "cell_type": "code",
   "execution_count": 6,
   "metadata": {},
   "outputs": [],
   "source": [
    "#Rendering an exmaple\n",
    "for i in range(10):\n",
    "    done = False\n",
    "    state = env.reset()\n",
    "    while not done:\n",
    "        env.render()\n",
    "        action = agent_reward_list[0].act(state.reshape((1,-1)))\n",
    "        state,r,done,_ = env.step(action)"
   ]
  }
 ],
 "metadata": {
  "kernelspec": {
   "display_name": "Python 3",
   "language": "python",
   "name": "python3"
  },
  "language_info": {
   "codemirror_mode": {
    "name": "ipython",
    "version": 3
   },
   "file_extension": ".py",
   "mimetype": "text/x-python",
   "name": "python",
   "nbconvert_exporter": "python",
   "pygments_lexer": "ipython3",
   "version": "3.7.3"
  }
 },
 "nbformat": 4,
 "nbformat_minor": 4
}
